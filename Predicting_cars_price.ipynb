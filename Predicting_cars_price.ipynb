{
 "cells": [
  {
   "cell_type": "code",
   "execution_count": 59,
   "metadata": {},
   "outputs": [],
   "source": [
    "# import necessary libraries\n",
    "import pandas as pd\n",
    "import numpy as np\n",
    "import seaborn as sns\n",
    "import matplotlib.pyplot as plt\n",
    "from sklearn.metrics import accuracy_score\n",
    "from sklearn import tree\n",
    "from sklearn.ensemble import RandomForestRegressor\n",
    "from sklearn.linear_model import LogisticRegression\n",
    "from sklearn.model_selection import train_test_split\n",
    "from sklearn.ensemble import GradientBoostingRegressor\n",
    "from sklearn.ensemble import AdaBoostRegressor\n",
    "\n",
    "pd.set_option('float_format', '{:f}'.format)\n",
    "\n",
    "\n",
    "%matplotlib inline"
   ]
  },
  {
   "cell_type": "code",
   "execution_count": 60,
   "metadata": {},
   "outputs": [
    {
     "data": {
      "text/html": [
       "<div>\n",
       "<style scoped>\n",
       "    .dataframe tbody tr th:only-of-type {\n",
       "        vertical-align: middle;\n",
       "    }\n",
       "\n",
       "    .dataframe tbody tr th {\n",
       "        vertical-align: top;\n",
       "    }\n",
       "\n",
       "    .dataframe thead th {\n",
       "        text-align: right;\n",
       "    }\n",
       "</style>\n",
       "<table border=\"1\" class=\"dataframe\">\n",
       "  <thead>\n",
       "    <tr style=\"text-align: right;\">\n",
       "      <th></th>\n",
       "      <th>dateCrawled</th>\n",
       "      <th>name</th>\n",
       "      <th>seller</th>\n",
       "      <th>offerType</th>\n",
       "      <th>price</th>\n",
       "      <th>abtest</th>\n",
       "      <th>vehicleType</th>\n",
       "      <th>yearOfRegistration</th>\n",
       "      <th>gearbox</th>\n",
       "      <th>powerPS</th>\n",
       "      <th>model</th>\n",
       "      <th>kilometer</th>\n",
       "      <th>monthOfRegistration</th>\n",
       "      <th>fuelType</th>\n",
       "      <th>brand</th>\n",
       "      <th>notRepairedDamage</th>\n",
       "      <th>dateCreated</th>\n",
       "      <th>nrOfPictures</th>\n",
       "      <th>postalCode</th>\n",
       "      <th>lastSeen</th>\n",
       "    </tr>\n",
       "  </thead>\n",
       "  <tbody>\n",
       "    <tr>\n",
       "      <th>0</th>\n",
       "      <td>2016-03-24 11:52:17</td>\n",
       "      <td>Golf_3_1.6</td>\n",
       "      <td>privat</td>\n",
       "      <td>Angebot</td>\n",
       "      <td>480</td>\n",
       "      <td>test</td>\n",
       "      <td>NaN</td>\n",
       "      <td>1993</td>\n",
       "      <td>manuell</td>\n",
       "      <td>0</td>\n",
       "      <td>golf</td>\n",
       "      <td>150000</td>\n",
       "      <td>0</td>\n",
       "      <td>benzin</td>\n",
       "      <td>volkswagen</td>\n",
       "      <td>NaN</td>\n",
       "      <td>2016-03-24 00:00:00</td>\n",
       "      <td>0</td>\n",
       "      <td>70435</td>\n",
       "      <td>2016-04-07 03:16:57</td>\n",
       "    </tr>\n",
       "    <tr>\n",
       "      <th>1</th>\n",
       "      <td>2016-03-24 10:58:45</td>\n",
       "      <td>A5_Sportback_2.7_Tdi</td>\n",
       "      <td>privat</td>\n",
       "      <td>Angebot</td>\n",
       "      <td>18300</td>\n",
       "      <td>test</td>\n",
       "      <td>coupe</td>\n",
       "      <td>2011</td>\n",
       "      <td>manuell</td>\n",
       "      <td>190</td>\n",
       "      <td>NaN</td>\n",
       "      <td>125000</td>\n",
       "      <td>5</td>\n",
       "      <td>diesel</td>\n",
       "      <td>audi</td>\n",
       "      <td>ja</td>\n",
       "      <td>2016-03-24 00:00:00</td>\n",
       "      <td>0</td>\n",
       "      <td>66954</td>\n",
       "      <td>2016-04-07 01:46:50</td>\n",
       "    </tr>\n",
       "    <tr>\n",
       "      <th>2</th>\n",
       "      <td>2016-03-14 12:52:21</td>\n",
       "      <td>Jeep_Grand_Cherokee_\"Overland\"</td>\n",
       "      <td>privat</td>\n",
       "      <td>Angebot</td>\n",
       "      <td>9800</td>\n",
       "      <td>test</td>\n",
       "      <td>suv</td>\n",
       "      <td>2004</td>\n",
       "      <td>automatik</td>\n",
       "      <td>163</td>\n",
       "      <td>grand</td>\n",
       "      <td>125000</td>\n",
       "      <td>8</td>\n",
       "      <td>diesel</td>\n",
       "      <td>jeep</td>\n",
       "      <td>NaN</td>\n",
       "      <td>2016-03-14 00:00:00</td>\n",
       "      <td>0</td>\n",
       "      <td>90480</td>\n",
       "      <td>2016-04-05 12:47:46</td>\n",
       "    </tr>\n",
       "    <tr>\n",
       "      <th>3</th>\n",
       "      <td>2016-03-17 16:54:04</td>\n",
       "      <td>GOLF_4_1_4__3TÜRER</td>\n",
       "      <td>privat</td>\n",
       "      <td>Angebot</td>\n",
       "      <td>1500</td>\n",
       "      <td>test</td>\n",
       "      <td>kleinwagen</td>\n",
       "      <td>2001</td>\n",
       "      <td>manuell</td>\n",
       "      <td>75</td>\n",
       "      <td>golf</td>\n",
       "      <td>150000</td>\n",
       "      <td>6</td>\n",
       "      <td>benzin</td>\n",
       "      <td>volkswagen</td>\n",
       "      <td>nein</td>\n",
       "      <td>2016-03-17 00:00:00</td>\n",
       "      <td>0</td>\n",
       "      <td>91074</td>\n",
       "      <td>2016-03-17 17:40:17</td>\n",
       "    </tr>\n",
       "    <tr>\n",
       "      <th>4</th>\n",
       "      <td>2016-03-31 17:25:20</td>\n",
       "      <td>Skoda_Fabia_1.4_TDI_PD_Classic</td>\n",
       "      <td>privat</td>\n",
       "      <td>Angebot</td>\n",
       "      <td>3600</td>\n",
       "      <td>test</td>\n",
       "      <td>kleinwagen</td>\n",
       "      <td>2008</td>\n",
       "      <td>manuell</td>\n",
       "      <td>69</td>\n",
       "      <td>fabia</td>\n",
       "      <td>90000</td>\n",
       "      <td>7</td>\n",
       "      <td>diesel</td>\n",
       "      <td>skoda</td>\n",
       "      <td>nein</td>\n",
       "      <td>2016-03-31 00:00:00</td>\n",
       "      <td>0</td>\n",
       "      <td>60437</td>\n",
       "      <td>2016-04-06 10:17:21</td>\n",
       "    </tr>\n",
       "  </tbody>\n",
       "</table>\n",
       "</div>"
      ],
      "text/plain": [
       "           dateCrawled                            name  seller offerType  \\\n",
       "0  2016-03-24 11:52:17                      Golf_3_1.6  privat   Angebot   \n",
       "1  2016-03-24 10:58:45            A5_Sportback_2.7_Tdi  privat   Angebot   \n",
       "2  2016-03-14 12:52:21  Jeep_Grand_Cherokee_\"Overland\"  privat   Angebot   \n",
       "3  2016-03-17 16:54:04              GOLF_4_1_4__3TÜRER  privat   Angebot   \n",
       "4  2016-03-31 17:25:20  Skoda_Fabia_1.4_TDI_PD_Classic  privat   Angebot   \n",
       "\n",
       "   price abtest vehicleType  yearOfRegistration    gearbox  powerPS  model  \\\n",
       "0    480   test         NaN                1993    manuell        0   golf   \n",
       "1  18300   test       coupe                2011    manuell      190    NaN   \n",
       "2   9800   test         suv                2004  automatik      163  grand   \n",
       "3   1500   test  kleinwagen                2001    manuell       75   golf   \n",
       "4   3600   test  kleinwagen                2008    manuell       69  fabia   \n",
       "\n",
       "   kilometer  monthOfRegistration fuelType       brand notRepairedDamage  \\\n",
       "0     150000                    0   benzin  volkswagen               NaN   \n",
       "1     125000                    5   diesel        audi                ja   \n",
       "2     125000                    8   diesel        jeep               NaN   \n",
       "3     150000                    6   benzin  volkswagen              nein   \n",
       "4      90000                    7   diesel       skoda              nein   \n",
       "\n",
       "           dateCreated  nrOfPictures  postalCode             lastSeen  \n",
       "0  2016-03-24 00:00:00             0       70435  2016-04-07 03:16:57  \n",
       "1  2016-03-24 00:00:00             0       66954  2016-04-07 01:46:50  \n",
       "2  2016-03-14 00:00:00             0       90480  2016-04-05 12:47:46  \n",
       "3  2016-03-17 00:00:00             0       91074  2016-03-17 17:40:17  \n",
       "4  2016-03-31 00:00:00             0       60437  2016-04-06 10:17:21  "
      ]
     },
     "execution_count": 60,
     "metadata": {},
     "output_type": "execute_result"
    }
   ],
   "source": [
    "# Read the data and plot the first 5 columns\n",
    "used_cars = pd.read_csv('autos.csv',encoding=\"ISO-8859-1\")\n",
    "used_cars.head()"
   ]
  },
  {
   "cell_type": "markdown",
   "metadata": {},
   "source": [
    "# Exploring our data:\n",
    "   in this section we will explore the data and checking the patterns on it."
   ]
  },
  {
   "cell_type": "code",
   "execution_count": 61,
   "metadata": {},
   "outputs": [
    {
     "data": {
      "text/html": [
       "<div>\n",
       "<style scoped>\n",
       "    .dataframe tbody tr th:only-of-type {\n",
       "        vertical-align: middle;\n",
       "    }\n",
       "\n",
       "    .dataframe tbody tr th {\n",
       "        vertical-align: top;\n",
       "    }\n",
       "\n",
       "    .dataframe thead th {\n",
       "        text-align: right;\n",
       "    }\n",
       "</style>\n",
       "<table border=\"1\" class=\"dataframe\">\n",
       "  <thead>\n",
       "    <tr style=\"text-align: right;\">\n",
       "      <th></th>\n",
       "      <th>price</th>\n",
       "      <th>yearOfRegistration</th>\n",
       "      <th>powerPS</th>\n",
       "      <th>kilometer</th>\n",
       "      <th>monthOfRegistration</th>\n",
       "      <th>nrOfPictures</th>\n",
       "      <th>postalCode</th>\n",
       "    </tr>\n",
       "  </thead>\n",
       "  <tbody>\n",
       "    <tr>\n",
       "      <th>count</th>\n",
       "      <td>371528.000000</td>\n",
       "      <td>371528.000000</td>\n",
       "      <td>371528.000000</td>\n",
       "      <td>371528.000000</td>\n",
       "      <td>371528.000000</td>\n",
       "      <td>371528.000000</td>\n",
       "      <td>371528.000000</td>\n",
       "    </tr>\n",
       "    <tr>\n",
       "      <th>mean</th>\n",
       "      <td>17295.141865</td>\n",
       "      <td>2004.577997</td>\n",
       "      <td>115.549477</td>\n",
       "      <td>125618.688228</td>\n",
       "      <td>5.734445</td>\n",
       "      <td>0.000000</td>\n",
       "      <td>50820.667640</td>\n",
       "    </tr>\n",
       "    <tr>\n",
       "      <th>std</th>\n",
       "      <td>3587953.744411</td>\n",
       "      <td>92.866598</td>\n",
       "      <td>192.139578</td>\n",
       "      <td>40112.337051</td>\n",
       "      <td>3.712412</td>\n",
       "      <td>0.000000</td>\n",
       "      <td>25799.082470</td>\n",
       "    </tr>\n",
       "    <tr>\n",
       "      <th>min</th>\n",
       "      <td>0.000000</td>\n",
       "      <td>1000.000000</td>\n",
       "      <td>0.000000</td>\n",
       "      <td>5000.000000</td>\n",
       "      <td>0.000000</td>\n",
       "      <td>0.000000</td>\n",
       "      <td>1067.000000</td>\n",
       "    </tr>\n",
       "    <tr>\n",
       "      <th>25%</th>\n",
       "      <td>1150.000000</td>\n",
       "      <td>1999.000000</td>\n",
       "      <td>70.000000</td>\n",
       "      <td>125000.000000</td>\n",
       "      <td>3.000000</td>\n",
       "      <td>0.000000</td>\n",
       "      <td>30459.000000</td>\n",
       "    </tr>\n",
       "    <tr>\n",
       "      <th>50%</th>\n",
       "      <td>2950.000000</td>\n",
       "      <td>2003.000000</td>\n",
       "      <td>105.000000</td>\n",
       "      <td>150000.000000</td>\n",
       "      <td>6.000000</td>\n",
       "      <td>0.000000</td>\n",
       "      <td>49610.000000</td>\n",
       "    </tr>\n",
       "    <tr>\n",
       "      <th>75%</th>\n",
       "      <td>7200.000000</td>\n",
       "      <td>2008.000000</td>\n",
       "      <td>150.000000</td>\n",
       "      <td>150000.000000</td>\n",
       "      <td>9.000000</td>\n",
       "      <td>0.000000</td>\n",
       "      <td>71546.000000</td>\n",
       "    </tr>\n",
       "    <tr>\n",
       "      <th>max</th>\n",
       "      <td>2147483647.000000</td>\n",
       "      <td>9999.000000</td>\n",
       "      <td>20000.000000</td>\n",
       "      <td>150000.000000</td>\n",
       "      <td>12.000000</td>\n",
       "      <td>0.000000</td>\n",
       "      <td>99998.000000</td>\n",
       "    </tr>\n",
       "  </tbody>\n",
       "</table>\n",
       "</div>"
      ],
      "text/plain": [
       "                  price  yearOfRegistration       powerPS     kilometer  \\\n",
       "count     371528.000000       371528.000000 371528.000000 371528.000000   \n",
       "mean       17295.141865         2004.577997    115.549477 125618.688228   \n",
       "std      3587953.744411           92.866598    192.139578  40112.337051   \n",
       "min            0.000000         1000.000000      0.000000   5000.000000   \n",
       "25%         1150.000000         1999.000000     70.000000 125000.000000   \n",
       "50%         2950.000000         2003.000000    105.000000 150000.000000   \n",
       "75%         7200.000000         2008.000000    150.000000 150000.000000   \n",
       "max   2147483647.000000         9999.000000  20000.000000 150000.000000   \n",
       "\n",
       "       monthOfRegistration  nrOfPictures    postalCode  \n",
       "count        371528.000000 371528.000000 371528.000000  \n",
       "mean              5.734445      0.000000  50820.667640  \n",
       "std               3.712412      0.000000  25799.082470  \n",
       "min               0.000000      0.000000   1067.000000  \n",
       "25%               3.000000      0.000000  30459.000000  \n",
       "50%               6.000000      0.000000  49610.000000  \n",
       "75%               9.000000      0.000000  71546.000000  \n",
       "max              12.000000      0.000000  99998.000000  "
      ]
     },
     "execution_count": 61,
     "metadata": {},
     "output_type": "execute_result"
    }
   ],
   "source": [
    "# Looking at the std we can see how the data spreated \n",
    "# from our mean which mean there is an outlier in the price column\n",
    "\n",
    "used_cars.describe()"
   ]
  },
  {
   "cell_type": "code",
   "execution_count": 62,
   "metadata": {},
   "outputs": [
    {
     "name": "stdout",
     "output_type": "stream",
     "text": [
      "<class 'pandas.core.frame.DataFrame'>\n",
      "RangeIndex: 371528 entries, 0 to 371527\n",
      "Data columns (total 20 columns):\n",
      "dateCrawled            371528 non-null object\n",
      "name                   371528 non-null object\n",
      "seller                 371528 non-null object\n",
      "offerType              371528 non-null object\n",
      "price                  371528 non-null int64\n",
      "abtest                 371528 non-null object\n",
      "vehicleType            333659 non-null object\n",
      "yearOfRegistration     371528 non-null int64\n",
      "gearbox                351319 non-null object\n",
      "powerPS                371528 non-null int64\n",
      "model                  351044 non-null object\n",
      "kilometer              371528 non-null int64\n",
      "monthOfRegistration    371528 non-null int64\n",
      "fuelType               338142 non-null object\n",
      "brand                  371528 non-null object\n",
      "notRepairedDamage      299468 non-null object\n",
      "dateCreated            371528 non-null object\n",
      "nrOfPictures           371528 non-null int64\n",
      "postalCode             371528 non-null int64\n",
      "lastSeen               371528 non-null object\n",
      "dtypes: int64(7), object(13)\n",
      "memory usage: 56.7+ MB\n"
     ]
    }
   ],
   "source": [
    "used_cars.info()"
   ]
  },
  {
   "cell_type": "code",
   "execution_count": 63,
   "metadata": {},
   "outputs": [
    {
     "data": {
      "text/plain": [
       "<matplotlib.axes._subplots.AxesSubplot at 0x15ae2d6d8>"
      ]
     },
     "execution_count": 63,
     "metadata": {},
     "output_type": "execute_result"
    },
    {
     "data": {
      "image/png": "[encoded data removed]",
      "text/plain": [
       "<Figure size 432x288 with 1 Axes>"
      ]
     },
     "metadata": {
      "needs_background": "light"
     },
     "output_type": "display_data"
    }
   ],
   "source": [
    "# Check for null values\n",
    "used_cars.isnull().sum().plot.bar()"
   ]
  },
  {
   "cell_type": "code",
   "execution_count": 64,
   "metadata": {},
   "outputs": [
    {
     "data": {
      "text/plain": [
       "fuelType  vehicleType\n",
       "andere    limousine         51\n",
       "          andere            44\n",
       "          kleinwagen        29\n",
       "          kombi             25\n",
       "          bus               10\n",
       "          suv                9\n",
       "          cabrio             6\n",
       "          coupe              3\n",
       "benzin    kleinwagen     67739\n",
       "          limousine      62245\n",
       "          kombi          28012\n",
       "          cabrio         19822\n",
       "          coupe          15030\n",
       "          bus             9742\n",
       "          suv             4957\n",
       "          andere          1428\n",
       "cng       bus              240\n",
       "          kombi            136\n",
       "          kleinwagen        80\n",
       "          limousine         40\n",
       "          andere            14\n",
       "          suv                4\n",
       "          cabrio             3\n",
       "          coupe              3\n",
       "diesel    kombi          34848\n",
       "          limousine      27648\n",
       "          bus            18622\n",
       "          suv             8665\n",
       "          kleinwagen      6808\n",
       "          coupe           2737\n",
       "          cabrio          1871\n",
       "          andere          1469\n",
       "elektro   kleinwagen        51\n",
       "          limousine         15\n",
       "          andere            12\n",
       "          coupe              7\n",
       "          cabrio             6\n",
       "          kombi              5\n",
       "          suv                3\n",
       "          bus                1\n",
       "hybrid    limousine        151\n",
       "          kleinwagen        38\n",
       "          kombi             27\n",
       "          suv               20\n",
       "          coupe             18\n",
       "          bus                6\n",
       "          andere             2\n",
       "lpg       limousine       1689\n",
       "          kombi           1173\n",
       "          suv              606\n",
       "          bus              527\n",
       "          kleinwagen       486\n",
       "          coupe            312\n",
       "          cabrio           243\n",
       "          andere            30\n",
       "Name: vehicleType, dtype: int64"
      ]
     },
     "execution_count": 64,
     "metadata": {},
     "output_type": "execute_result"
    }
   ],
   "source": [
    "# Now lets check the null values in fuelType and compare it with the vehicleType\n",
    "# to fill the null values.\n",
    "used_cars.groupby('fuelType')['vehicleType'].value_counts()"
   ]
  },
  {
   "cell_type": "code",
   "execution_count": 65,
   "metadata": {},
   "outputs": [
    {
     "name": "stdout",
     "output_type": "stream",
     "text": [
      "['coupe' 'suv' 'kleinwagen' 'limousine' 'cabrio' 'bus' 'kombi' 'andere']\n",
      "['benzin' 'diesel' 'lpg' 'andere' 'hybrid' 'cng' 'elektro']\n"
     ]
    },
    {
     "data": {
      "text/plain": [
       "dateCrawled                0\n",
       "name                       0\n",
       "seller                     0\n",
       "offerType                  0\n",
       "price                      0\n",
       "abtest                     0\n",
       "vehicleType            17495\n",
       "yearOfRegistration         0\n",
       "gearbox                20209\n",
       "powerPS                    0\n",
       "model                  20484\n",
       "kilometer                  0\n",
       "monthOfRegistration        0\n",
       "fuelType               33386\n",
       "brand                      0\n",
       "notRepairedDamage      72060\n",
       "dateCreated                0\n",
       "nrOfPictures               0\n",
       "postalCode                 0\n",
       "lastSeen                   0\n",
       "dtype: int64"
      ]
     },
     "execution_count": 65,
     "metadata": {},
     "output_type": "execute_result"
    }
   ],
   "source": [
    "# we can see that vehicleType actually correspond to the fuelType \n",
    "# so let's fill them\n",
    "vehicleType = used_cars['vehicleType'].unique()\n",
    "fuelType = used_cars['fuelType'].unique()\n",
    "vehicleType = np.delete(vehicleType,0)\n",
    "# Remove nulls from the data\n",
    "vehicleType = vehicleType[~pd.isnull(vehicleType)]\n",
    "fuelType = fuelType[~pd.isnull(fuelType)]\n",
    "\n",
    "print(vehicleType)\n",
    "print(fuelType)\n",
    "\n",
    "# Replace the nulls\n",
    "d = {}\n",
    "for i in fuelType :\n",
    "    m = 0\n",
    "    for j in vehicleType :\n",
    "        if used_cars[(used_cars['vehicleType'] == j) & (used_cars['fuelType'] == i)].shape[0] > m :\n",
    "            m = used_cars[(used_cars['vehicleType'] == j) & (used_cars['fuelType'] == i)].shape[0]\n",
    "            d[i] = j\n",
    "\n",
    "\n",
    "for i in fuelType :\n",
    "    used_cars.loc[(used_cars['fuelType'] == i) & (used_cars['vehicleType'].isnull()) ,'vehicleType' ] = d[i]\n",
    "\n",
    "\n",
    "used_cars.isnull().sum()"
   ]
  },
  {
   "cell_type": "markdown",
   "metadata": {},
   "source": [
    "# Dealing with Nulls\n",
    "     Since we are creating a model that will predict the price of used cars \n",
    "     we will remove all null values from the data and check the amount of data that\n",
    "     we will have at the end."
   ]
  },
  {
   "cell_type": "code",
   "execution_count": 66,
   "metadata": {},
   "outputs": [],
   "source": [
    "used_cars = used_cars.dropna()"
   ]
  },
  {
   "cell_type": "code",
   "execution_count": 67,
   "metadata": {},
   "outputs": [
    {
     "data": {
      "text/plain": [
       "<matplotlib.axes._subplots.AxesSubplot at 0x135477be0>"
      ]
     },
     "execution_count": 67,
     "metadata": {},
     "output_type": "execute_result"
    },
    {
     "data": {
      "image/png": "[encoded data removed]",
      "text/plain": [
       "<Figure size 432x288 with 1 Axes>"
      ]
     },
     "metadata": {
      "needs_background": "light"
     },
     "output_type": "display_data"
    }
   ],
   "source": [
    "used_cars.isnull().sum().plot.bar()"
   ]
  },
  {
   "cell_type": "code",
   "execution_count": 68,
   "metadata": {},
   "outputs": [
    {
     "name": "stdout",
     "output_type": "stream",
     "text": [
      "<class 'pandas.core.frame.DataFrame'>\n",
      "Int64Index: 269135 entries, 3 to 371527\n",
      "Data columns (total 20 columns):\n",
      "dateCrawled            269135 non-null object\n",
      "name                   269135 non-null object\n",
      "seller                 269135 non-null object\n",
      "offerType              269135 non-null object\n",
      "price                  269135 non-null int64\n",
      "abtest                 269135 non-null object\n",
      "vehicleType            269135 non-null object\n",
      "yearOfRegistration     269135 non-null int64\n",
      "gearbox                269135 non-null object\n",
      "powerPS                269135 non-null int64\n",
      "model                  269135 non-null object\n",
      "kilometer              269135 non-null int64\n",
      "monthOfRegistration    269135 non-null int64\n",
      "fuelType               269135 non-null object\n",
      "brand                  269135 non-null object\n",
      "notRepairedDamage      269135 non-null object\n",
      "dateCreated            269135 non-null object\n",
      "nrOfPictures           269135 non-null int64\n",
      "postalCode             269135 non-null int64\n",
      "lastSeen               269135 non-null object\n",
      "dtypes: int64(7), object(13)\n",
      "memory usage: 43.1+ MB\n"
     ]
    }
   ],
   "source": [
    "used_cars.info()"
   ]
  },
  {
   "cell_type": "code",
   "execution_count": null,
   "metadata": {},
   "outputs": [],
   "source": []
  },
  {
   "cell_type": "markdown",
   "metadata": {},
   "source": [
    "# Feature Engneering:\n",
    "    for each column we have to deal with it individualy \n",
    "    \n",
    "    - name: only represent the name of the car in this case we don't need it.\n",
    "    "
   ]
  },
  {
   "cell_type": "code",
   "execution_count": 69,
   "metadata": {},
   "outputs": [],
   "source": [
    "# unwanted columns ['name','postalCode','dateCrawled','dateCreated','lastSeen']"
   ]
  },
  {
   "cell_type": "code",
   "execution_count": 70,
   "metadata": {},
   "outputs": [
    {
     "data": {
      "text/plain": [
       "BMW_318i                                                   619\n",
       "Volkswagen_Golf_1.4                                        582\n",
       "BMW_316i                                                   516\n",
       "BMW_320i                                                   491\n",
       "Ford_Fiesta                                                433\n",
       "Volkswagen_Polo                                            423\n",
       "Opel_Corsa                                                 409\n",
       "Volkswagen_Golf_1.6                                        406\n",
       "Volkswagen_Polo_1.2                                        402\n",
       "Volkswagen_Golf                                            400\n",
       "BMW_116i                                                   392\n",
       "Opel_Corsa_1.2_16V                                         355\n",
       "Opel_Corsa_1.0_12V                                         330\n",
       "Renault_Twingo_1.2                                         287\n",
       "Volkswagen_Passat_Variant_1.9_TDI                          267\n",
       "Volkswagen_Golf_1.9_TDI                                    260\n",
       "Audi_A4_Avant_2.0_TDI_DPF                                  250\n",
       "Ford_Focus                                                 248\n",
       "Opel_Astra                                                 245\n",
       "MINI_Mini_Cooper                                           244\n",
       "Audi_A4_Avant_1.9_TDI                                      237\n",
       "Audi_A4_1.6                                                231\n",
       "MINI_Mini_One                                              231\n",
       "Opel_Astra_1.6                                             229\n",
       "Ford_Ka                                                    229\n",
       "BMW_520i                                                   225\n",
       "Renault_Twingo                                             217\n",
       "Volkswagen_Lupo_1.0                                        216\n",
       "Audi_A6_Avant_2.5_TDI                                      208\n",
       "Volkswagen_Golf_1.4_Trendline                              208\n",
       "                                                          ... \n",
       "Mercedes_C180__1vorbesitzer_Scheckheft_Top_Auto              1\n",
       "Audi_A3_S_line_Sportpaket_Navi/Leder/Xenon/Voll_Schec        1\n",
       "BMW_320i_Coupe_Aut._M_Fahrwerk__M_Lenkrad                    1\n",
       "Audi_SQ5_3.0_TDI_quattro_SHZ__Navi__Kamera__AHK__uvm         1\n",
       "Alfa_Romeo_147_1_6_16V_T.Spark_Ego_Prog.5_Tuerig             1\n",
       "Daihatsu_Cuore_Tuev_Neu!!!__4L/100_Km_Verbrauch              1\n",
       "BMW_Z3_roadster_1.9__tuev___leder__scheckheft                1\n",
       "Passat_3b_sehr_gepflegt                                      1\n",
       "Suzuki_Ignis_1.5_Sport_mit_Duplex_Edelstahlsportauspuff      1\n",
       "BMW_320d_COUPE/BIXENON/LEDER/SITZHEITZUNG                    1\n",
       "Audi_A3_s_line_Cabrio                                        1\n",
       "Saab_9000_2.3_Turbo_CD                                       1\n",
       "VW_Polo_86c_1.0_Kat_Mit_Tuev_Anfaengerauto_Winterauto        1\n",
       "Volkswagen_Golf_1.8_Avenue_Klima                             1\n",
       "Ford_Focus_Futura_1_8TDCI_115PS_148000km                     1\n",
       "Golf_4_zu_verkaufen.                                         1\n",
       "MINI_Mini_Cooper_SD___TOP___Vollausstattung                  1\n",
       "Audi_A3_3.2_quattro_S_Line_Sportpaket_+_Crome_line           1\n",
       "Toyota_Avensis_1.8_VVT_i_Combi_Travel                        1\n",
       "Opel_Zafira_2_2_DTI_top_Zustand                              1\n",
       "Audi_unfallfrei__Garantie_bis_12/2018__NP_102.900            1\n",
       "Ich_verkaufe_ein_Opel_Astra_Twin_Top_1.8_Cosmo               1\n",
       "BMW_520d_Touring_F10_Sport_Aut._F1_M_paket                   1\n",
       "BMW_Z4_Roadster_2.0i__TÜV_und_HU_neu                         1\n",
       "BMW_116d_Klimaauto_Start_Stop_Sitzh._TÜV_neu_u.v.m.          1\n",
       "Opel_Astra_Twin_Top_1.9_CDTI_Cosmo_/_DPF__Service_NEU        1\n",
       "BMW_523i_Automatic_Leder_Navi_Xenon_TOP                      1\n",
       "Volkswagen_Polo_1.4_/_1.Hand_/_TÜV_Neu_/_Navi_/_Klima        1\n",
       "Volkswagen_Sharan_2.8_V6_4Motion_Highline                    1\n",
       "Toyota_RAV_4_2.2_D_CAT_4x4_Executive_ATM__90TKm              1\n",
       "Name: name, Length: 156951, dtype: int64"
      ]
     },
     "execution_count": 70,
     "metadata": {},
     "output_type": "execute_result"
    }
   ],
   "source": [
    "used_cars['name'].value_counts()"
   ]
  },
  {
   "cell_type": "code",
   "execution_count": 71,
   "metadata": {},
   "outputs": [
    {
     "data": {
      "text/plain": [
       "privat        269133\n",
       "gewerblich         2\n",
       "Name: seller, dtype: int64"
      ]
     },
     "execution_count": 71,
     "metadata": {},
     "output_type": "execute_result"
    }
   ],
   "source": [
    "# since only two values shows up as gewerblich we will drop that column.\n",
    "used_cars['seller'].value_counts()"
   ]
  },
  {
   "cell_type": "code",
   "execution_count": 72,
   "metadata": {},
   "outputs": [
    {
     "data": {
      "text/plain": [
       "nein    239383\n",
       "ja       29752\n",
       "Name: notRepairedDamage, dtype: int64"
      ]
     },
     "execution_count": 72,
     "metadata": {},
     "output_type": "execute_result"
    }
   ],
   "source": [
    "used_cars['notRepairedDamage'].value_counts()"
   ]
  },
  {
   "cell_type": "code",
   "execution_count": 73,
   "metadata": {},
   "outputs": [
    {
     "data": {
      "text/plain": [
       "benzin     175204\n",
       "diesel      89012\n",
       "lpg          4071\n",
       "cng           489\n",
       "hybrid        223\n",
       "andere         77\n",
       "elektro        59\n",
       "Name: fuelType, dtype: int64"
      ]
     },
     "execution_count": 73,
     "metadata": {},
     "output_type": "execute_result"
    }
   ],
   "source": [
    "used_cars['fuelType'].value_counts()"
   ]
  },
  {
   "cell_type": "markdown",
   "metadata": {},
   "source": [
    "# Detecting outliers:"
   ]
  },
  {
   "cell_type": "code",
   "execution_count": 74,
   "metadata": {},
   "outputs": [
    {
     "data": {
      "text/plain": [
       "<matplotlib.axes._subplots.AxesSubplot at 0x1355c5358>"
      ]
     },
     "execution_count": 74,
     "metadata": {},
     "output_type": "execute_result"
    },
    {
     "data": {
      "image/png": "[encoded data removed]",
      "text/plain": [
       "<Figure size 864x648 with 1 Axes>"
      ]
     },
     "metadata": {},
     "output_type": "display_data"
    }
   ],
   "source": [
    "sns.set(rc={'figure.figsize':(12,9)})\n",
    "\n",
    "sns.boxplot(data=used_cars)"
   ]
  },
  {
   "cell_type": "code",
   "execution_count": 75,
   "metadata": {},
   "outputs": [
    {
     "data": {
      "text/plain": [
       "count     269135.000000\n",
       "mean        8100.149698\n",
       "std       338607.914969\n",
       "min            0.000000\n",
       "25%         1500.000000\n",
       "50%         3750.000000\n",
       "75%         8500.000000\n",
       "max     99999999.000000\n",
       "Name: price, dtype: float64"
      ]
     },
     "execution_count": 75,
     "metadata": {},
     "output_type": "execute_result"
    }
   ],
   "source": [
    "# we can see that the min number of the pirce is 0 and it dose not make any sense \n",
    "# so we will remove any price with that range.\n",
    "used_cars['price'].describe()"
   ]
  },
  {
   "cell_type": "code",
   "execution_count": 76,
   "metadata": {},
   "outputs": [
    {
     "data": {
      "text/plain": [
       "3    1500\n",
       "4    3600\n",
       "5     650\n",
       "6    2200\n",
       "7       0\n",
       "Name: price, dtype: int64"
      ]
     },
     "execution_count": 76,
     "metadata": {},
     "output_type": "execute_result"
    }
   ],
   "source": [
    "used_cars['price'].head()"
   ]
  },
  {
   "cell_type": "code",
   "execution_count": 77,
   "metadata": {},
   "outputs": [
    {
     "data": {
      "text/plain": [
       "<matplotlib.axes._subplots.AxesSubplot at 0x134fc10f0>"
      ]
     },
     "execution_count": 77,
     "metadata": {},
     "output_type": "execute_result"
    },
    {
     "data": {
      "image/png": "[encoded data removed]",
      "text/plain": [
       "<Figure size 864x648 with 1 Axes>"
      ]
     },
     "metadata": {},
     "output_type": "display_data"
    }
   ],
   "source": [
    "used_cars['yearOfRegistration'].value_counts().plot()\n",
    "\n",
    "# We can see that there is more than 2018 date are there ! we will remove them."
   ]
  },
  {
   "cell_type": "code",
   "execution_count": 78,
   "metadata": {},
   "outputs": [
    {
     "data": {
      "text/plain": [
       "1910    6\n",
       "1923    2\n",
       "1919    1\n",
       "1929    1\n",
       "1600    1\n",
       "Name: yearOfRegistration, dtype: int64"
      ]
     },
     "execution_count": 78,
     "metadata": {},
     "output_type": "execute_result"
    }
   ],
   "source": [
    "used_cars[used_cars['yearOfRegistration'] < 1930]['yearOfRegistration'].value_counts()"
   ]
  },
  {
   "cell_type": "code",
   "execution_count": 79,
   "metadata": {},
   "outputs": [
    {
     "data": {
      "text/plain": [
       "count   269135.000000\n",
       "mean      2003.739436\n",
       "std         24.108661\n",
       "min       1600.000000\n",
       "25%       1999.000000\n",
       "50%       2004.000000\n",
       "75%       2008.000000\n",
       "max       9000.000000\n",
       "Name: yearOfRegistration, dtype: float64"
      ]
     },
     "execution_count": 79,
     "metadata": {},
     "output_type": "execute_result"
    }
   ],
   "source": [
    "used_cars['yearOfRegistration'].describe()\n"
   ]
  },
  {
   "cell_type": "code",
   "execution_count": 80,
   "metadata": {},
   "outputs": [],
   "source": [
    "used_cars = used_cars[(used_cars['yearOfRegistration'] < 2018)  & (used_cars['yearOfRegistration'] > 1920)]"
   ]
  },
  {
   "cell_type": "code",
   "execution_count": 81,
   "metadata": {},
   "outputs": [],
   "source": [
    "used_cars = used_cars[(used_cars['price'] > 1000) & (used_cars['price'] < 200000)]"
   ]
  },
  {
   "cell_type": "code",
   "execution_count": 82,
   "metadata": {},
   "outputs": [
    {
     "data": {
      "text/html": [
       "<div>\n",
       "<style scoped>\n",
       "    .dataframe tbody tr th:only-of-type {\n",
       "        vertical-align: middle;\n",
       "    }\n",
       "\n",
       "    .dataframe tbody tr th {\n",
       "        vertical-align: top;\n",
       "    }\n",
       "\n",
       "    .dataframe thead th {\n",
       "        text-align: right;\n",
       "    }\n",
       "</style>\n",
       "<table border=\"1\" class=\"dataframe\">\n",
       "  <thead>\n",
       "    <tr style=\"text-align: right;\">\n",
       "      <th></th>\n",
       "      <th>price</th>\n",
       "      <th>yearOfRegistration</th>\n",
       "      <th>powerPS</th>\n",
       "      <th>kilometer</th>\n",
       "      <th>monthOfRegistration</th>\n",
       "      <th>nrOfPictures</th>\n",
       "      <th>postalCode</th>\n",
       "    </tr>\n",
       "  </thead>\n",
       "  <tbody>\n",
       "    <tr>\n",
       "      <th>count</th>\n",
       "      <td>221305.000000</td>\n",
       "      <td>221305.000000</td>\n",
       "      <td>221305.000000</td>\n",
       "      <td>221305.000000</td>\n",
       "      <td>221305.000000</td>\n",
       "      <td>221305.000000</td>\n",
       "      <td>221305.000000</td>\n",
       "    </tr>\n",
       "    <tr>\n",
       "      <th>mean</th>\n",
       "      <td>7818.467066</td>\n",
       "      <td>2004.586426</td>\n",
       "      <td>133.910016</td>\n",
       "      <td>120914.891213</td>\n",
       "      <td>6.261869</td>\n",
       "      <td>0.000000</td>\n",
       "      <td>52329.256908</td>\n",
       "    </tr>\n",
       "    <tr>\n",
       "      <th>std</th>\n",
       "      <td>8907.816656</td>\n",
       "      <td>6.504942</td>\n",
       "      <td>146.305680</td>\n",
       "      <td>41157.481176</td>\n",
       "      <td>3.437072</td>\n",
       "      <td>0.000000</td>\n",
       "      <td>25784.564670</td>\n",
       "    </tr>\n",
       "    <tr>\n",
       "      <th>min</th>\n",
       "      <td>1001.000000</td>\n",
       "      <td>1923.000000</td>\n",
       "      <td>0.000000</td>\n",
       "      <td>5000.000000</td>\n",
       "      <td>0.000000</td>\n",
       "      <td>0.000000</td>\n",
       "      <td>1067.000000</td>\n",
       "    </tr>\n",
       "    <tr>\n",
       "      <th>25%</th>\n",
       "      <td>2500.000000</td>\n",
       "      <td>2001.000000</td>\n",
       "      <td>90.000000</td>\n",
       "      <td>90000.000000</td>\n",
       "      <td>3.000000</td>\n",
       "      <td>0.000000</td>\n",
       "      <td>31785.000000</td>\n",
       "    </tr>\n",
       "    <tr>\n",
       "      <th>50%</th>\n",
       "      <td>4990.000000</td>\n",
       "      <td>2005.000000</td>\n",
       "      <td>122.000000</td>\n",
       "      <td>150000.000000</td>\n",
       "      <td>6.000000</td>\n",
       "      <td>0.000000</td>\n",
       "      <td>51580.000000</td>\n",
       "    </tr>\n",
       "    <tr>\n",
       "      <th>75%</th>\n",
       "      <td>9950.000000</td>\n",
       "      <td>2009.000000</td>\n",
       "      <td>163.000000</td>\n",
       "      <td>150000.000000</td>\n",
       "      <td>9.000000</td>\n",
       "      <td>0.000000</td>\n",
       "      <td>73312.000000</td>\n",
       "    </tr>\n",
       "    <tr>\n",
       "      <th>max</th>\n",
       "      <td>199900.000000</td>\n",
       "      <td>2017.000000</td>\n",
       "      <td>20000.000000</td>\n",
       "      <td>150000.000000</td>\n",
       "      <td>12.000000</td>\n",
       "      <td>0.000000</td>\n",
       "      <td>99998.000000</td>\n",
       "    </tr>\n",
       "  </tbody>\n",
       "</table>\n",
       "</div>"
      ],
      "text/plain": [
       "              price  yearOfRegistration       powerPS     kilometer  \\\n",
       "count 221305.000000       221305.000000 221305.000000 221305.000000   \n",
       "mean    7818.467066         2004.586426    133.910016 120914.891213   \n",
       "std     8907.816656            6.504942    146.305680  41157.481176   \n",
       "min     1001.000000         1923.000000      0.000000   5000.000000   \n",
       "25%     2500.000000         2001.000000     90.000000  90000.000000   \n",
       "50%     4990.000000         2005.000000    122.000000 150000.000000   \n",
       "75%     9950.000000         2009.000000    163.000000 150000.000000   \n",
       "max   199900.000000         2017.000000  20000.000000 150000.000000   \n",
       "\n",
       "       monthOfRegistration  nrOfPictures    postalCode  \n",
       "count        221305.000000 221305.000000 221305.000000  \n",
       "mean              6.261869      0.000000  52329.256908  \n",
       "std               3.437072      0.000000  25784.564670  \n",
       "min               0.000000      0.000000   1067.000000  \n",
       "25%               3.000000      0.000000  31785.000000  \n",
       "50%               6.000000      0.000000  51580.000000  \n",
       "75%               9.000000      0.000000  73312.000000  \n",
       "max              12.000000      0.000000  99998.000000  "
      ]
     },
     "execution_count": 82,
     "metadata": {},
     "output_type": "execute_result"
    }
   ],
   "source": [
    "used_cars.describe()"
   ]
  },
  {
   "cell_type": "code",
   "execution_count": 83,
   "metadata": {},
   "outputs": [
    {
     "data": {
      "text/plain": [
       "<matplotlib.axes._subplots.AxesSubplot at 0x139273160>"
      ]
     },
     "execution_count": 83,
     "metadata": {},
     "output_type": "execute_result"
    },
    {
     "data": {
      "image/png": "[encoded data removed]",
      "text/plain": [
       "<Figure size 864x648 with 1 Axes>"
      ]
     },
     "metadata": {},
     "output_type": "display_data"
    }
   ],
   "source": [
    "sns.set(rc={'figure.figsize':(12,9)})\n",
    "\n",
    "sns.boxplot(data=used_cars)"
   ]
  },
  {
   "cell_type": "code",
   "execution_count": 84,
   "metadata": {},
   "outputs": [],
   "source": []
  },
  {
   "cell_type": "code",
   "execution_count": 85,
   "metadata": {},
   "outputs": [
    {
     "data": {
      "text/html": [
       "<div>\n",
       "<style scoped>\n",
       "    .dataframe tbody tr th:only-of-type {\n",
       "        vertical-align: middle;\n",
       "    }\n",
       "\n",
       "    .dataframe tbody tr th {\n",
       "        vertical-align: top;\n",
       "    }\n",
       "\n",
       "    .dataframe thead th {\n",
       "        text-align: right;\n",
       "    }\n",
       "</style>\n",
       "<table border=\"1\" class=\"dataframe\">\n",
       "  <thead>\n",
       "    <tr style=\"text-align: right;\">\n",
       "      <th></th>\n",
       "      <th>dateCrawled</th>\n",
       "      <th>name</th>\n",
       "      <th>seller</th>\n",
       "      <th>offerType</th>\n",
       "      <th>price</th>\n",
       "      <th>abtest</th>\n",
       "      <th>vehicleType</th>\n",
       "      <th>yearOfRegistration</th>\n",
       "      <th>gearbox</th>\n",
       "      <th>powerPS</th>\n",
       "      <th>model</th>\n",
       "      <th>kilometer</th>\n",
       "      <th>monthOfRegistration</th>\n",
       "      <th>fuelType</th>\n",
       "      <th>brand</th>\n",
       "      <th>notRepairedDamage</th>\n",
       "      <th>dateCreated</th>\n",
       "      <th>nrOfPictures</th>\n",
       "      <th>postalCode</th>\n",
       "      <th>lastSeen</th>\n",
       "    </tr>\n",
       "  </thead>\n",
       "  <tbody>\n",
       "    <tr>\n",
       "      <th>3</th>\n",
       "      <td>2016-03-17 16:54:04</td>\n",
       "      <td>GOLF_4_1_4__3TÜRER</td>\n",
       "      <td>privat</td>\n",
       "      <td>Angebot</td>\n",
       "      <td>1500</td>\n",
       "      <td>test</td>\n",
       "      <td>kleinwagen</td>\n",
       "      <td>2001</td>\n",
       "      <td>manuell</td>\n",
       "      <td>75</td>\n",
       "      <td>golf</td>\n",
       "      <td>150000</td>\n",
       "      <td>6</td>\n",
       "      <td>benzin</td>\n",
       "      <td>volkswagen</td>\n",
       "      <td>nein</td>\n",
       "      <td>2016-03-17 00:00:00</td>\n",
       "      <td>0</td>\n",
       "      <td>91074</td>\n",
       "      <td>2016-03-17 17:40:17</td>\n",
       "    </tr>\n",
       "    <tr>\n",
       "      <th>4</th>\n",
       "      <td>2016-03-31 17:25:20</td>\n",
       "      <td>Skoda_Fabia_1.4_TDI_PD_Classic</td>\n",
       "      <td>privat</td>\n",
       "      <td>Angebot</td>\n",
       "      <td>3600</td>\n",
       "      <td>test</td>\n",
       "      <td>kleinwagen</td>\n",
       "      <td>2008</td>\n",
       "      <td>manuell</td>\n",
       "      <td>69</td>\n",
       "      <td>fabia</td>\n",
       "      <td>90000</td>\n",
       "      <td>7</td>\n",
       "      <td>diesel</td>\n",
       "      <td>skoda</td>\n",
       "      <td>nein</td>\n",
       "      <td>2016-03-31 00:00:00</td>\n",
       "      <td>0</td>\n",
       "      <td>60437</td>\n",
       "      <td>2016-04-06 10:17:21</td>\n",
       "    </tr>\n",
       "    <tr>\n",
       "      <th>6</th>\n",
       "      <td>2016-04-01 20:48:51</td>\n",
       "      <td>Peugeot_206_CC_110_Platinum</td>\n",
       "      <td>privat</td>\n",
       "      <td>Angebot</td>\n",
       "      <td>2200</td>\n",
       "      <td>test</td>\n",
       "      <td>cabrio</td>\n",
       "      <td>2004</td>\n",
       "      <td>manuell</td>\n",
       "      <td>109</td>\n",
       "      <td>2_reihe</td>\n",
       "      <td>150000</td>\n",
       "      <td>8</td>\n",
       "      <td>benzin</td>\n",
       "      <td>peugeot</td>\n",
       "      <td>nein</td>\n",
       "      <td>2016-04-01 00:00:00</td>\n",
       "      <td>0</td>\n",
       "      <td>67112</td>\n",
       "      <td>2016-04-05 18:18:39</td>\n",
       "    </tr>\n",
       "    <tr>\n",
       "      <th>10</th>\n",
       "      <td>2016-03-26 19:54:18</td>\n",
       "      <td>Mazda_3_1.6_Sport</td>\n",
       "      <td>privat</td>\n",
       "      <td>Angebot</td>\n",
       "      <td>2000</td>\n",
       "      <td>control</td>\n",
       "      <td>limousine</td>\n",
       "      <td>2004</td>\n",
       "      <td>manuell</td>\n",
       "      <td>105</td>\n",
       "      <td>3_reihe</td>\n",
       "      <td>150000</td>\n",
       "      <td>12</td>\n",
       "      <td>benzin</td>\n",
       "      <td>mazda</td>\n",
       "      <td>nein</td>\n",
       "      <td>2016-03-26 00:00:00</td>\n",
       "      <td>0</td>\n",
       "      <td>96224</td>\n",
       "      <td>2016-04-06 10:45:34</td>\n",
       "    </tr>\n",
       "    <tr>\n",
       "      <th>11</th>\n",
       "      <td>2016-04-07 10:06:22</td>\n",
       "      <td>Volkswagen_Passat_Variant_2.0_TDI_Comfortline</td>\n",
       "      <td>privat</td>\n",
       "      <td>Angebot</td>\n",
       "      <td>2799</td>\n",
       "      <td>control</td>\n",
       "      <td>kombi</td>\n",
       "      <td>2005</td>\n",
       "      <td>manuell</td>\n",
       "      <td>140</td>\n",
       "      <td>passat</td>\n",
       "      <td>150000</td>\n",
       "      <td>12</td>\n",
       "      <td>diesel</td>\n",
       "      <td>volkswagen</td>\n",
       "      <td>ja</td>\n",
       "      <td>2016-04-07 00:00:00</td>\n",
       "      <td>0</td>\n",
       "      <td>57290</td>\n",
       "      <td>2016-04-07 10:25:17</td>\n",
       "    </tr>\n",
       "  </tbody>\n",
       "</table>\n",
       "</div>"
      ],
      "text/plain": [
       "            dateCrawled                                           name  \\\n",
       "3   2016-03-17 16:54:04                             GOLF_4_1_4__3TÜRER   \n",
       "4   2016-03-31 17:25:20                 Skoda_Fabia_1.4_TDI_PD_Classic   \n",
       "6   2016-04-01 20:48:51                    Peugeot_206_CC_110_Platinum   \n",
       "10  2016-03-26 19:54:18                              Mazda_3_1.6_Sport   \n",
       "11  2016-04-07 10:06:22  Volkswagen_Passat_Variant_2.0_TDI_Comfortline   \n",
       "\n",
       "    seller offerType  price   abtest vehicleType  yearOfRegistration  gearbox  \\\n",
       "3   privat   Angebot   1500     test  kleinwagen                2001  manuell   \n",
       "4   privat   Angebot   3600     test  kleinwagen                2008  manuell   \n",
       "6   privat   Angebot   2200     test      cabrio                2004  manuell   \n",
       "10  privat   Angebot   2000  control   limousine                2004  manuell   \n",
       "11  privat   Angebot   2799  control       kombi                2005  manuell   \n",
       "\n",
       "    powerPS    model  kilometer  monthOfRegistration fuelType       brand  \\\n",
       "3        75     golf     150000                    6   benzin  volkswagen   \n",
       "4        69    fabia      90000                    7   diesel       skoda   \n",
       "6       109  2_reihe     150000                    8   benzin     peugeot   \n",
       "10      105  3_reihe     150000                   12   benzin       mazda   \n",
       "11      140   passat     150000                   12   diesel  volkswagen   \n",
       "\n",
       "   notRepairedDamage          dateCreated  nrOfPictures  postalCode  \\\n",
       "3               nein  2016-03-17 00:00:00             0       91074   \n",
       "4               nein  2016-03-31 00:00:00             0       60437   \n",
       "6               nein  2016-04-01 00:00:00             0       67112   \n",
       "10              nein  2016-03-26 00:00:00             0       96224   \n",
       "11                ja  2016-04-07 00:00:00             0       57290   \n",
       "\n",
       "               lastSeen  \n",
       "3   2016-03-17 17:40:17  \n",
       "4   2016-04-06 10:17:21  \n",
       "6   2016-04-05 18:18:39  \n",
       "10  2016-04-06 10:45:34  \n",
       "11  2016-04-07 10:25:17  "
      ]
     },
     "execution_count": 85,
     "metadata": {},
     "output_type": "execute_result"
    }
   ],
   "source": [
    "used_cars.head()\n",
    "# Remove = ['name','lastSeen','dateCreated','dateCrawled','postalCode']\n",
    "# Dummy = ['seller','offerType','abtest','vehicleType','gearbox',\n",
    "#        'model','fuelType','brand','notRepairedDamage']\n",
    "# Predicted = ['price']"
   ]
  },
  {
   "cell_type": "code",
   "execution_count": null,
   "metadata": {},
   "outputs": [],
   "source": []
  },
  {
   "cell_type": "code",
   "execution_count": null,
   "metadata": {},
   "outputs": [],
   "source": []
  },
  {
   "cell_type": "code",
   "execution_count": null,
   "metadata": {},
   "outputs": [],
   "source": []
  },
  {
   "cell_type": "code",
   "execution_count": null,
   "metadata": {},
   "outputs": [],
   "source": []
  },
  {
   "cell_type": "code",
   "execution_count": null,
   "metadata": {},
   "outputs": [],
   "source": []
  },
  {
   "cell_type": "code",
   "execution_count": 86,
   "metadata": {},
   "outputs": [],
   "source": [
    "# function to clean the data.\n",
    "def Clean_data(data):\n",
    "    \n",
    "    # Remove Unnecessary data\n",
    "    data = data.drop(['name','lastSeen','dateCreated','dateCrawled','postalCode'],axis=1)\n",
    "    \n",
    "    # Remove yearOfRegistration < 2018 and > 1920 since it dose not make any sense:\n",
    "    data = data[(data['yearOfRegistration'] < 2018)  & (data['yearOfRegistration'] > 1920)]\n",
    "    data = data[(data['price'] > 100) & (data['price'] < 200000)]\n",
    "\n",
    "    # Retrive the data unique so we can compare it with the data in the dataframe.\n",
    "    vehicleType = data['vehicleType'].unique()\n",
    "    fuelType = data['fuelType'].unique()\n",
    "    vehicleType = np.delete(vehicleType,0)\n",
    "    # Remove nulls from the data\n",
    "    vehicleType = vehicleType[~pd.isnull(vehicleType)]\n",
    "    fuelType = fuelType[~pd.isnull(fuelType)]\n",
    "    \n",
    "    \n",
    "    # Create for loop to replce the vehicle null value fuel Type with the right one compared to the vehicleType.\n",
    "    d = {}\n",
    "    for i in fuelType :\n",
    "        m = 0\n",
    "        for j in vehicleType :\n",
    "            if data[(data['vehicleType'] == j) & (data['fuelType'] == i)].shape[0] > m :\n",
    "                m = data[(data['vehicleType'] == j) & (data['fuelType'] == i)].shape[0]\n",
    "                d[i] = j\n",
    "\n",
    "\n",
    "    for i in fuelType :\n",
    "        data.loc[(data['fuelType'] == i) & (data['vehicleType'].isnull()) ,'vehicleType' ] = d[i]    \n",
    "    \n",
    "    return data"
   ]
  },
  {
   "cell_type": "code",
   "execution_count": 87,
   "metadata": {},
   "outputs": [],
   "source": [
    "# Function to prepare the data.\n",
    "def prep_data(data):\n",
    "    \n",
    "    # Create Variables and predictor:\n",
    "    Y  = data['price']\n",
    "    X =  data.drop('price',axis=1)\n",
    "    \n",
    "    # Create dummy Variables:\n",
    "    # First remove the Y value\n",
    "    X =  used_cars.drop('price',axis=1)\n",
    "\n",
    "    # convert the data into dummy\n",
    "    dummy_data = pd.get_dummies(X[['seller','offerType','abtest','vehicleType','gearbox',\\\n",
    "                      'model','fuelType','brand','notRepairedDamage']])\n",
    "\n",
    "    # Drop the Dummy data from the X\n",
    "    X = X.drop(['seller','offerType','abtest','vehicleType','gearbox',\\\n",
    "                      'model','fuelType','brand','notRepairedDamage'],axis=1)\n",
    "\n",
    "    X = pd.concat([X, dummy_data], axis=1) \n",
    "\n",
    "    return X,Y"
   ]
  },
  {
   "cell_type": "code",
   "execution_count": null,
   "metadata": {},
   "outputs": [],
   "source": []
  },
  {
   "cell_type": "code",
   "execution_count": 88,
   "metadata": {},
   "outputs": [],
   "source": [
    "# Now let's create the model:\n",
    "# Here we will create list of models and preforme them all to the data to choose the best sloution.\n",
    "\n",
    "# Function to compare the data\n",
    "def compare_models(X,Y):\n",
    "\n",
    "    # you can add any model you want.\n",
    "    models = []\n",
    "    models.append(('DecisionTreeRegressor', tree.DecisionTreeRegressor()))\n",
    "    models.append(('GradientBoostingRegressor',GradientBoostingRegressor()))\n",
    "    models.append(('RandomForestRegressor', RandomForestRegressor()))\n",
    "\n",
    "    seed = 7\n",
    "\n",
    "    names = []\n",
    "    scores = []\n",
    "    test_size = 0.33\n",
    "    seed = 7\n",
    "    X_train, X_test, Y_train, Y_test = train_test_split(X, Y, test_size=test_size, random_state=seed)\n",
    "    # loop in models and store each socre in list to comapre them later\n",
    "    for name,model in models:\n",
    "        model.fit(X_train, Y_train)\n",
    "        accuracy = model.score(X_test, Y_test)\n",
    "        # Append the name of the model and its score.\n",
    "        scores.append(accuracy)\n",
    "        names.append(name)\n",
    "        print(name, 'accuracy',accuracy)\n",
    "        \n",
    "    return names, scores"
   ]
  },
  {
   "cell_type": "markdown",
   "metadata": {},
   "source": [
    "# Testing our result to the origenal data:"
   ]
  },
  {
   "cell_type": "code",
   "execution_count": 89,
   "metadata": {},
   "outputs": [],
   "source": [
    "used_cars = pd.read_csv('autos.csv',encoding=\"ISO-8859-1\")"
   ]
  },
  {
   "cell_type": "code",
   "execution_count": 90,
   "metadata": {},
   "outputs": [
    {
     "data": {
      "text/html": [
       "<div>\n",
       "<style scoped>\n",
       "    .dataframe tbody tr th:only-of-type {\n",
       "        vertical-align: middle;\n",
       "    }\n",
       "\n",
       "    .dataframe tbody tr th {\n",
       "        vertical-align: top;\n",
       "    }\n",
       "\n",
       "    .dataframe thead th {\n",
       "        text-align: right;\n",
       "    }\n",
       "</style>\n",
       "<table border=\"1\" class=\"dataframe\">\n",
       "  <thead>\n",
       "    <tr style=\"text-align: right;\">\n",
       "      <th></th>\n",
       "      <th>seller</th>\n",
       "      <th>offerType</th>\n",
       "      <th>price</th>\n",
       "      <th>abtest</th>\n",
       "      <th>vehicleType</th>\n",
       "      <th>yearOfRegistration</th>\n",
       "      <th>gearbox</th>\n",
       "      <th>powerPS</th>\n",
       "      <th>model</th>\n",
       "      <th>kilometer</th>\n",
       "      <th>monthOfRegistration</th>\n",
       "      <th>fuelType</th>\n",
       "      <th>brand</th>\n",
       "      <th>notRepairedDamage</th>\n",
       "      <th>nrOfPictures</th>\n",
       "    </tr>\n",
       "  </thead>\n",
       "  <tbody>\n",
       "    <tr>\n",
       "      <th>0</th>\n",
       "      <td>privat</td>\n",
       "      <td>Angebot</td>\n",
       "      <td>480</td>\n",
       "      <td>test</td>\n",
       "      <td>kleinwagen</td>\n",
       "      <td>1993</td>\n",
       "      <td>manuell</td>\n",
       "      <td>0</td>\n",
       "      <td>golf</td>\n",
       "      <td>150000</td>\n",
       "      <td>0</td>\n",
       "      <td>benzin</td>\n",
       "      <td>volkswagen</td>\n",
       "      <td>NaN</td>\n",
       "      <td>0</td>\n",
       "    </tr>\n",
       "    <tr>\n",
       "      <th>1</th>\n",
       "      <td>privat</td>\n",
       "      <td>Angebot</td>\n",
       "      <td>18300</td>\n",
       "      <td>test</td>\n",
       "      <td>coupe</td>\n",
       "      <td>2011</td>\n",
       "      <td>manuell</td>\n",
       "      <td>190</td>\n",
       "      <td>NaN</td>\n",
       "      <td>125000</td>\n",
       "      <td>5</td>\n",
       "      <td>diesel</td>\n",
       "      <td>audi</td>\n",
       "      <td>ja</td>\n",
       "      <td>0</td>\n",
       "    </tr>\n",
       "    <tr>\n",
       "      <th>2</th>\n",
       "      <td>privat</td>\n",
       "      <td>Angebot</td>\n",
       "      <td>9800</td>\n",
       "      <td>test</td>\n",
       "      <td>suv</td>\n",
       "      <td>2004</td>\n",
       "      <td>automatik</td>\n",
       "      <td>163</td>\n",
       "      <td>grand</td>\n",
       "      <td>125000</td>\n",
       "      <td>8</td>\n",
       "      <td>diesel</td>\n",
       "      <td>jeep</td>\n",
       "      <td>NaN</td>\n",
       "      <td>0</td>\n",
       "    </tr>\n",
       "    <tr>\n",
       "      <th>3</th>\n",
       "      <td>privat</td>\n",
       "      <td>Angebot</td>\n",
       "      <td>1500</td>\n",
       "      <td>test</td>\n",
       "      <td>kleinwagen</td>\n",
       "      <td>2001</td>\n",
       "      <td>manuell</td>\n",
       "      <td>75</td>\n",
       "      <td>golf</td>\n",
       "      <td>150000</td>\n",
       "      <td>6</td>\n",
       "      <td>benzin</td>\n",
       "      <td>volkswagen</td>\n",
       "      <td>nein</td>\n",
       "      <td>0</td>\n",
       "    </tr>\n",
       "    <tr>\n",
       "      <th>4</th>\n",
       "      <td>privat</td>\n",
       "      <td>Angebot</td>\n",
       "      <td>3600</td>\n",
       "      <td>test</td>\n",
       "      <td>kleinwagen</td>\n",
       "      <td>2008</td>\n",
       "      <td>manuell</td>\n",
       "      <td>69</td>\n",
       "      <td>fabia</td>\n",
       "      <td>90000</td>\n",
       "      <td>7</td>\n",
       "      <td>diesel</td>\n",
       "      <td>skoda</td>\n",
       "      <td>nein</td>\n",
       "      <td>0</td>\n",
       "    </tr>\n",
       "  </tbody>\n",
       "</table>\n",
       "</div>"
      ],
      "text/plain": [
       "   seller offerType  price abtest vehicleType  yearOfRegistration    gearbox  \\\n",
       "0  privat   Angebot    480   test  kleinwagen                1993    manuell   \n",
       "1  privat   Angebot  18300   test       coupe                2011    manuell   \n",
       "2  privat   Angebot   9800   test         suv                2004  automatik   \n",
       "3  privat   Angebot   1500   test  kleinwagen                2001    manuell   \n",
       "4  privat   Angebot   3600   test  kleinwagen                2008    manuell   \n",
       "\n",
       "   powerPS  model  kilometer  monthOfRegistration fuelType       brand  \\\n",
       "0        0   golf     150000                    0   benzin  volkswagen   \n",
       "1      190    NaN     125000                    5   diesel        audi   \n",
       "2      163  grand     125000                    8   diesel        jeep   \n",
       "3       75   golf     150000                    6   benzin  volkswagen   \n",
       "4       69  fabia      90000                    7   diesel       skoda   \n",
       "\n",
       "  notRepairedDamage  nrOfPictures  \n",
       "0               NaN             0  \n",
       "1                ja             0  \n",
       "2               NaN             0  \n",
       "3              nein             0  \n",
       "4              nein             0  "
      ]
     },
     "execution_count": 90,
     "metadata": {},
     "output_type": "execute_result"
    }
   ],
   "source": [
    "used_cars = Clean_data(used_cars)\n",
    "used_cars.head()"
   ]
  },
  {
   "cell_type": "code",
   "execution_count": 91,
   "metadata": {},
   "outputs": [
    {
     "name": "stdout",
     "output_type": "stream",
     "text": [
      "(353035, 321) (353035,)\n"
     ]
    }
   ],
   "source": [
    "X,Y = prep_data(used_cars)\n",
    "print(X.shape, Y.shape)"
   ]
  },
  {
   "cell_type": "code",
   "execution_count": 92,
   "metadata": {},
   "outputs": [
    {
     "name": "stdout",
     "output_type": "stream",
     "text": [
      "DecisionTreeRegressor accuracy 0.7211458747399291\n",
      "GradientBoostingRegressor accuracy 0.7860294118659725\n"
     ]
    },
    {
     "name": "stderr",
     "output_type": "stream",
     "text": [
      "/Library/Frameworks/Python.framework/Versions/3.6/lib/python3.6/site-packages/sklearn/ensemble/forest.py:246: FutureWarning: The default value of n_estimators will change from 10 in version 0.20 to 100 in 0.22.\n",
      "  \"10 in version 0.20 to 100 in 0.22.\", FutureWarning)\n"
     ]
    },
    {
     "name": "stdout",
     "output_type": "stream",
     "text": [
      "RandomForestRegressor accuracy 0.8243820242766713\n"
     ]
    }
   ],
   "source": [
    "names, scores = compare_models(X,Y)"
   ]
  },
  {
   "cell_type": "code",
   "execution_count": 93,
   "metadata": {},
   "outputs": [
    {
     "data": {
      "text/plain": [
       "[<matplotlib.lines.Line2D at 0x14d12c9e8>]"
      ]
     },
     "execution_count": 93,
     "metadata": {},
     "output_type": "execute_result"
    },
    {
     "data": {
      "image/png": "[encoded data removed]",
      "text/plain": [
       "<Figure size 864x648 with 1 Axes>"
      ]
     },
     "metadata": {},
     "output_type": "display_data"
    }
   ],
   "source": [
    "# Create Graph to compare models.\n",
    "plt.title(\"Effect of n_estimators\")\n",
    "plt.xlabel(\"n_estimator\")\n",
    "plt.ylabel(\"score\")\n",
    "plt.plot(names, scores)"
   ]
  },
  {
   "cell_type": "code",
   "execution_count": null,
   "metadata": {},
   "outputs": [],
   "source": []
  }
 ],
 "metadata": {
  "kernelspec": {
   "display_name": "Python 3",
   "language": "python",
   "name": "python3"
  },
  "language_info": {
   "codemirror_mode": {
    "name": "ipython",
    "version": 3
   },
   "file_extension": ".py",
   "mimetype": "text/x-python",
   "name": "python",
   "nbconvert_exporter": "python",
   "pygments_lexer": "ipython3",
   "version": "3.6.8"
  }
 },
 "nbformat": 4,
 "nbformat_minor": 2
}
